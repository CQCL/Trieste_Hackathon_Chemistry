{
 "cells": [
  {
   "attachments": {},
   "cell_type": "markdown",
   "metadata": {},
   "source": [
    "# Quantum Krylov\n",
    "\n",
    "- https://arxiv.org/abs/2109.06868\n",
    "- https://arxiv.org/abs/2211.16097\n",
    "- https://arxiv.org/abs/2208.00567"
   ]
  },
  {
   "attachments": {},
   "cell_type": "markdown",
   "metadata": {},
   "source": [
    "## TODO:\n",
    "\n",
    "-  !!! Make a new branch !!!\n",
    "- You need to download inquanto to generate the Hamiltonians\n",
    "- You to download inquanto.extensions.pyscf to do the classical Hartree fock calculations to do the integrals\n",
    "\n",
    "- Generate a scipy (matrix multiplication) code to do the do the Quantum Krylov algorithm algorithm. (Hint use scipy.linalg.expm exponentiate matrices)\n",
    "- Use this for benchmarking the quantum circuit hadamard test version\n",
    "- You will need to use a generalised eigenvalue problem solver code (provided)"
   ]
  },
  {
   "attachments": {},
   "cell_type": "markdown",
   "metadata": {},
   "source": [
    "# Generate Hamiltonian\n",
    "- Equilibrium H2\n",
    "- Solve ground state problem"
   ]
  },
  {
   "cell_type": "code",
   "execution_count": 6,
   "metadata": {},
   "outputs": [],
   "source": [
    "from inquanto.extensions.pyscf import ChemistryDriverPySCFMolecularRHF\n",
    "\n",
    "def get_qubit_hamiltonian(bond_length):\n",
    "    xyz = [\n",
    "        [\"H\", [0., 0., 0.]],\n",
    "        [\"H\", [0., bond_length, 0.]],\n",
    "        #  [\"H\", [0., 2*bond_length, 0.]],\n",
    "        # [\"H\", [0., 3*bond_length, 0.]],\n",
    "    ]\n",
    "\n",
    "    ferm_ham, fock_space, fock_state = ChemistryDriverPySCFMolecularRHF(geometry=xyz, basis=\"sto3g\").get_system()\n",
    "    qubit_ham = ferm_ham.qubit_encode()\n",
    "    qubit_ham_matrix = qubit_ham.to_sparse_matrix().todense()\n",
    "    return qubit_ham_matrix\n",
    "\n",
    "qubit_ham_matrix_735 = get_qubit_hamiltonian(0.735)"
   ]
  },
  {
   "attachments": {},
   "cell_type": "markdown",
   "metadata": {},
   "source": [
    "## Exact GS\n",
    "- Perfect input to algorithm for testing"
   ]
  },
  {
   "cell_type": "code",
   "execution_count": 7,
   "metadata": {},
   "outputs": [],
   "source": [
    "import numpy\n",
    "e,c = numpy.linalg.eigh(qubit_ham_matrix_735)\n",
    "gs_735 = c[:,0]"
   ]
  },
  {
   "attachments": {},
   "cell_type": "markdown",
   "metadata": {},
   "source": [
    "## How to calculate expectation values\n",
    "- $\\langle \\psi | \\hat{H} | \\psi \\rangle$"
   ]
  },
  {
   "cell_type": "code",
   "execution_count": 8,
   "metadata": {},
   "outputs": [
    {
     "data": {
      "text/plain": [
       "matrix([[-1.13730604+0.j]])"
      ]
     },
     "execution_count": 8,
     "metadata": {},
     "output_type": "execute_result"
    }
   ],
   "source": [
    "gs_735.conj().T @ qubit_ham_matrix_735 @ gs_735"
   ]
  },
  {
   "attachments": {},
   "cell_type": "markdown",
   "metadata": {},
   "source": [
    "# Transition Matrix Elements\n",
    "- $\\langle \\psi | e^{-i\\hat{H}t} | \\psi \\rangle$ \n",
    "- Scipy makes this easy\n",
    "- Can be done with X and Y measurements via the hadamard test"
   ]
  },
  {
   "cell_type": "markdown",
   "metadata": {},
   "source": []
  }
 ],
 "metadata": {
  "kernelspec": {
   "display_name": "inquanto-dev",
   "language": "python",
   "name": "python3"
  },
  "language_info": {
   "codemirror_mode": {
    "name": "ipython",
    "version": 3
   },
   "file_extension": ".py",
   "mimetype": "text/x-python",
   "name": "python",
   "nbconvert_exporter": "python",
   "pygments_lexer": "ipython3",
   "version": "3.9.13"
  },
  "orig_nbformat": 4
 },
 "nbformat": 4,
 "nbformat_minor": 2
}
